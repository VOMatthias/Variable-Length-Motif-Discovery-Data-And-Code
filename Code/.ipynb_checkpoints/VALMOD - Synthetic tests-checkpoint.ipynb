{
 "cells": [
  {
   "cell_type": "code",
   "execution_count": 1,
   "id": "6f77db75",
   "metadata": {},
   "outputs": [],
   "source": [
    "import sys\n",
    "sys.path.insert(1,'./distancematrix')\n",
    "import valmod\n",
    "\n",
    "\n",
    "def valmod_fm(data, minimum_window, maximum_window):\n",
    "    motifs = valmod.find_variable_length_motifs(data,minimum_window,maximum_window)\n",
    "    \n",
    "    #for x in range(len(motifs)):\n",
    "    #    plt.plot(data)\n",
    "    #    \n",
    "    #    plt.axvspan(motifs[x][0],motifs[x][0]+minimum_window+x, color='green', alpha=0.3)\n",
    "    #    plt.axvspan(motifs[x][1],motifs[x][1]+minimum_window+x, color='red', alpha=0.3)\n",
    "    #    \n",
    "    #    plt.show()"
   ]
  },
  {
   "cell_type": "code",
   "execution_count": 4,
   "id": "88a2cc59",
   "metadata": {},
   "outputs": [
    {
     "name": "stdout",
     "output_type": "stream",
     "text": [
      "Searching files\n",
      "3 files found\n",
      "Load file number  0 : ../Data/Synthetic data\\3 patterns.csv\n",
      "Processing timeseries\n",
      "1500 datapoints\n",
      "Getting motifs\n"
     ]
    },
    {
     "ename": "KeyboardInterrupt",
     "evalue": "",
     "output_type": "error",
     "traceback": [
      "\u001b[1;31m---------------------------------------------------------------------------\u001b[0m",
      "\u001b[1;31mKeyboardInterrupt\u001b[0m                         Traceback (most recent call last)",
      "\u001b[1;32m~\\AppData\\Local\\Temp\\ipykernel_18692\\3933258733.py\u001b[0m in \u001b[0;36m<module>\u001b[1;34m\u001b[0m\n\u001b[0;32m     40\u001b[0m     \u001b[0mprint\u001b[0m\u001b[1;33m(\u001b[0m\u001b[1;34m\"Getting motifs\"\u001b[0m\u001b[1;33m)\u001b[0m\u001b[1;33m\u001b[0m\u001b[1;33m\u001b[0m\u001b[0m\n\u001b[0;32m     41\u001b[0m \u001b[1;33m\u001b[0m\u001b[0m\n\u001b[1;32m---> 42\u001b[1;33m     \u001b[0mvalmod_fm\u001b[0m\u001b[1;33m(\u001b[0m\u001b[0mtime_series\u001b[0m\u001b[1;33m,\u001b[0m\u001b[1;36m10\u001b[0m\u001b[1;33m,\u001b[0m\u001b[1;36m300\u001b[0m\u001b[1;33m)\u001b[0m\u001b[1;33m\u001b[0m\u001b[1;33m\u001b[0m\u001b[0m\n\u001b[0m\u001b[0;32m     43\u001b[0m \u001b[1;33m\u001b[0m\u001b[0m\n\u001b[0;32m     44\u001b[0m     \u001b[1;31m#motifs = MotifDiscovery.get_motifs(time_series, window_size, threshold)\u001b[0m\u001b[1;33m\u001b[0m\u001b[1;33m\u001b[0m\u001b[0m\n",
      "\u001b[1;32m~\\AppData\\Local\\Temp\\ipykernel_18692\\47131094.py\u001b[0m in \u001b[0;36mvalmod_fm\u001b[1;34m(data, minimum_window, maximum_window)\u001b[0m\n\u001b[0;32m      5\u001b[0m \u001b[1;33m\u001b[0m\u001b[0m\n\u001b[0;32m      6\u001b[0m \u001b[1;32mdef\u001b[0m \u001b[0mvalmod_fm\u001b[0m\u001b[1;33m(\u001b[0m\u001b[0mdata\u001b[0m\u001b[1;33m,\u001b[0m \u001b[0mminimum_window\u001b[0m\u001b[1;33m,\u001b[0m \u001b[0mmaximum_window\u001b[0m\u001b[1;33m)\u001b[0m\u001b[1;33m:\u001b[0m\u001b[1;33m\u001b[0m\u001b[1;33m\u001b[0m\u001b[0m\n\u001b[1;32m----> 7\u001b[1;33m     \u001b[0mmotifs\u001b[0m \u001b[1;33m=\u001b[0m \u001b[0mvalmod\u001b[0m\u001b[1;33m.\u001b[0m\u001b[0mfind_variable_length_motifs\u001b[0m\u001b[1;33m(\u001b[0m\u001b[0mdata\u001b[0m\u001b[1;33m,\u001b[0m\u001b[0mminimum_window\u001b[0m\u001b[1;33m,\u001b[0m\u001b[0mmaximum_window\u001b[0m\u001b[1;33m)\u001b[0m\u001b[1;33m\u001b[0m\u001b[1;33m\u001b[0m\u001b[0m\n\u001b[0m\u001b[0;32m      8\u001b[0m \u001b[1;33m\u001b[0m\u001b[0m\n\u001b[0;32m      9\u001b[0m     \u001b[1;31m#for x in range(len(motifs)):\u001b[0m\u001b[1;33m\u001b[0m\u001b[1;33m\u001b[0m\u001b[0m\n",
      "\u001b[1;32m~\\Documents\\IEEE access\\Motif discovery paper benchmark - Copy\\Code\\./distancematrix\\valmod.py\u001b[0m in \u001b[0;36mfind_variable_length_motifs\u001b[1;34m(series, min_motif_length, max_motif_length, cache_size, noise_std)\u001b[0m\n\u001b[0;32m    110\u001b[0m             \u001b[1;32mfor\u001b[0m \u001b[0minvalid_idx\u001b[0m\u001b[1;33m,\u001b[0m \u001b[0mlower_bound\u001b[0m \u001b[1;32min\u001b[0m \u001b[0mzip\u001b[0m\u001b[1;33m(\u001b[0m\u001b[0minvalid_subseq_idxs\u001b[0m\u001b[1;33m,\u001b[0m \u001b[0minvalid_subseq_lbs\u001b[0m\u001b[1;33m)\u001b[0m\u001b[1;33m:\u001b[0m\u001b[1;33m\u001b[0m\u001b[1;33m\u001b[0m\u001b[0m\n\u001b[0;32m    111\u001b[0m                 \u001b[1;32mif\u001b[0m \u001b[0mlower_bound\u001b[0m \u001b[1;33m<\u001b[0m \u001b[0mbest_candidate_motif_distance\u001b[0m\u001b[1;33m:\u001b[0m\u001b[1;33m\u001b[0m\u001b[1;33m\u001b[0m\u001b[0m\n\u001b[1;32m--> 112\u001b[1;33m                     \u001b[0mdistances\u001b[0m \u001b[1;33m=\u001b[0m \u001b[0mdist_generator\u001b[0m\u001b[1;33m.\u001b[0m\u001b[0mcalc_column\u001b[0m\u001b[1;33m(\u001b[0m\u001b[0minvalid_idx\u001b[0m\u001b[1;33m)\u001b[0m\u001b[1;33m\u001b[0m\u001b[1;33m\u001b[0m\u001b[0m\n\u001b[0m\u001b[0;32m    113\u001b[0m                     \u001b[0mtrivial_match_start\u001b[0m \u001b[1;33m=\u001b[0m \u001b[0mmax\u001b[0m\u001b[1;33m(\u001b[0m\u001b[1;36m0\u001b[0m\u001b[1;33m,\u001b[0m \u001b[0minvalid_idx\u001b[0m \u001b[1;33m-\u001b[0m \u001b[0mtrivial_match_buffer\u001b[0m\u001b[1;33m)\u001b[0m\u001b[1;33m\u001b[0m\u001b[1;33m\u001b[0m\u001b[0m\n\u001b[0;32m    114\u001b[0m                     \u001b[0mtrivial_match_end\u001b[0m \u001b[1;33m=\u001b[0m \u001b[0minvalid_idx\u001b[0m \u001b[1;33m+\u001b[0m \u001b[0mtrivial_match_buffer\u001b[0m \u001b[1;33m+\u001b[0m \u001b[1;36m1\u001b[0m\u001b[1;33m\u001b[0m\u001b[1;33m\u001b[0m\u001b[0m\n",
      "\u001b[1;32m~\\Documents\\IEEE access\\Motif discovery paper benchmark - Copy\\Code\\distancematrix\\generator\\znorm_euclidean.py\u001b[0m in \u001b[0;36mcalc_column\u001b[1;34m(self, column)\u001b[0m\n\u001b[0;32m    230\u001b[0m \u001b[1;33m\u001b[0m\u001b[0m\n\u001b[0;32m    231\u001b[0m             \u001b[0mdot_prod\u001b[0m \u001b[1;33m=\u001b[0m \u001b[0mself\u001b[0m\u001b[1;33m.\u001b[0m\u001b[0mprev_calc_column_dot_prod\u001b[0m  \u001b[1;31m# work in same array\u001b[0m\u001b[1;33m\u001b[0m\u001b[1;33m\u001b[0m\u001b[0m\n\u001b[1;32m--> 232\u001b[1;33m             dot_prod[1:] = (self.prev_calc_column_dot_prod[:-1]\n\u001b[0m\u001b[0;32m    233\u001b[0m                             \u001b[1;33m-\u001b[0m \u001b[0mself\u001b[0m\u001b[1;33m.\u001b[0m\u001b[0mseries\u001b[0m\u001b[1;33m[\u001b[0m\u001b[0mcolumn\u001b[0m \u001b[1;33m-\u001b[0m \u001b[1;36m1\u001b[0m\u001b[1;33m]\u001b[0m \u001b[1;33m*\u001b[0m \u001b[0mself\u001b[0m\u001b[1;33m.\u001b[0m\u001b[0mquery\u001b[0m\u001b[1;33m[\u001b[0m\u001b[1;33m:\u001b[0m\u001b[0mlen\u001b[0m\u001b[1;33m(\u001b[0m\u001b[0mself\u001b[0m\u001b[1;33m.\u001b[0m\u001b[0mquery\u001b[0m\u001b[1;33m.\u001b[0m\u001b[0mview\u001b[0m\u001b[1;33m)\u001b[0m \u001b[1;33m-\u001b[0m \u001b[0mself\u001b[0m\u001b[1;33m.\u001b[0m\u001b[0mm\u001b[0m\u001b[1;33m]\u001b[0m\u001b[1;33m\u001b[0m\u001b[1;33m\u001b[0m\u001b[0m\n\u001b[0;32m    234\u001b[0m                             + self.series[column + self.m - 1] * self.query[self.m:])\n",
      "\u001b[1;31mKeyboardInterrupt\u001b[0m: "
     ]
    }
   ],
   "source": [
    "import sys\n",
    "sys.path.insert(1,'./Helpers')\n",
    "import PlotMotifs\n",
    "import MotifDiscovery\n",
    "import Ranking\n",
    "import FileFunctions\n",
    "import numpy as np\n",
    "import glob\n",
    "import time\n",
    "\n",
    "folder_path = \"../Data/Synthetic data/\"\n",
    "window_size = 20\n",
    "threshold = 0.2\n",
    "output_folder = \"./Output/\"\n",
    "output_file_name_base = \"output\"\n",
    "\n",
    "print(\"Searching files\")\n",
    "filenames = glob.glob(folder_path+\"*.csv\")\n",
    "print(len(filenames),\"files found\")   \n",
    "\n",
    "start = time.time()\n",
    "\n",
    "for i in range(len(filenames)):\n",
    "    print(\"Load file number \", i,\":\", filenames[i])\n",
    "    file = FileFunctions.load_file(filenames[i])\n",
    "    \n",
    "    output_file_name = (output_file_name_base + \"_\" + filenames[i].split(\"/\")[-1].split(\"\\\\\")[-1])[:-4]\n",
    "    \n",
    "    print(\"Processing timeseries\")\n",
    "    #time_series = file.drop_duplicates(subset='time', keep=\"last\").dropna()[\"values\"].values[:]\n",
    "    #time_series = file.drop_duplicates(subset='date', keep=\"last\").dropna()[\"value\"].values[0:8000]\n",
    "    time_series = file.drop_duplicates(subset='time', keep=\"last\").dropna()[\"values\"][0:8000]\n",
    "    time_series = time_series.astype(np.float64).values\n",
    "    \n",
    "    \n",
    "    #time_series = PAA(time_series,25,8000)\n",
    "    \n",
    "    print(len(time_series), \"datapoints\")\n",
    "    \n",
    "    print(\"Getting motifs\")\n",
    "    \n",
    "    valmod_fm(time_series,10,300)\n",
    "    \n",
    "    #motifs = MotifDiscovery.get_motifs(time_series, window_size, threshold)\n",
    "    #print(len(motifs), \"motifs found\")\n",
    "    #\n",
    "    #print(\"Get motif properties\")\n",
    "    #motifs_with_properties = []\n",
    "    #for motif in motifs:\n",
    "    #    motifs_with_properties.append([motif[0], motif[1], Ranking.get_motif_properties(time_series,motif[0],motif[1],window_size)])   \n",
    "    #\n",
    "    #print(\"Order on prominence\")\n",
    "    #prominence_motifs, prominences = Ranking.order_motifs_on_prominence(time_series,motifs_with_properties,window_size)\n",
    "    #\n",
    "    #print(\"Plot motifs to pdf file\", output_file_name, \"in\", output_folder)\n",
    "    #PlotMotifs.plot_all_motifs(time_series,prominence_motifs,window_size,output_folder, output_file_name)    \n",
    "    #\n",
    "    #print(\"Extract results.pdf to \", output_folder)\n",
    "    #FileFunctions.merge_pdfs(output_folder)\n",
    "\n",
    "    \n",
    "print(time.time()-start,\"seconds needed\")"
   ]
  },
  {
   "cell_type": "code",
   "execution_count": null,
   "id": "bd818ad8",
   "metadata": {},
   "outputs": [],
   "source": []
  },
  {
   "cell_type": "code",
   "execution_count": null,
   "id": "0ab1aec3",
   "metadata": {},
   "outputs": [],
   "source": []
  }
 ],
 "metadata": {
  "kernelspec": {
   "display_name": "Python 3 (ipykernel)",
   "language": "python",
   "name": "python3"
  },
  "language_info": {
   "codemirror_mode": {
    "name": "ipython",
    "version": 3
   },
   "file_extension": ".py",
   "mimetype": "text/x-python",
   "name": "python",
   "nbconvert_exporter": "python",
   "pygments_lexer": "ipython3",
   "version": "3.9.13"
  }
 },
 "nbformat": 4,
 "nbformat_minor": 5
}
